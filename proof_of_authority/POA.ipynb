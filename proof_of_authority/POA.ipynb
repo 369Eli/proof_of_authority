{
 "cells": [
  {
   "cell_type": "markdown",
   "id": "bd2c8d3a-1338-49db-9f31-4f90b0100ada",
   "metadata": {},
   "source": [
    "# HW OBJECTIVES FOR: Proof Of Authority Development Chain\n",
    "## THIS ENTIRE PROJECT IS DELIVERABLE: 4\n",
    "\n",
    "### DELIVERABLES:\n",
    "To do this, you will create and submit four deliverables:\n",
    "1. Set up your custom testnet blockchain.\n",
    "2. Send a test transaction.\n",
    "3. Create a repository.\n",
    "4. Write instructions on how to use the chain for the rest of your team.\n",
    "## PROFICIENCIES: Testnet\n",
    "In order to set up a testnet, you will need to use the following skills/tools :\n",
    "1. Puppeth, to generate your genesis block.\n",
    "2. Geth, a command-line tool, to create keys, initialize nodes, and connect the nodes together.\n",
    "3. The Clique Proof of Authority algorithm."
   ]
  },
  {
   "cell_type": "code",
   "execution_count": null,
   "id": "a97f02a4-1fdb-4082-bfc2-6a21ae05ccd6",
   "metadata": {},
   "outputs": [],
   "source": [
    "NOTE: This box is the command line box. Text found in these boxes will be command line codes used to \n",
    "      execute or illustrate terminal actions, terminal out puts, or desktop text/symbols"
   ]
  },
  {
   "cell_type": "markdown",
   "id": "06f322cb-8d1e-49e6-b161-1d735ba82ce5",
   "metadata": {},
   "source": [
    "# DELIVERABLE 3\n",
    "## i. SET UP REPO - Instructions\n",
    "\n",
    "### Github Repository\n",
    "* Navigate to your GITHUB (github.com). In your profile, create a new project directory for your new network. Call it \"proof_of_authority\"\n",
    "### Creating a new repository:\n",
    "* Select \"New\" button on the right hand side of the screen. It is a green button and create a new github repository.\n",
    "* Follow the prompts of naming and other settings are a public repository and select to include a README file. \n",
    "### Set Up repository on your desktop\n",
    "* On you local desktop create a folder for your work. \n",
    "* Right click on your desktop. Select \"NEW FOLDER\". \n",
    "* When a New Folder appears on your desktop it will be untitled. Click on the folder, select \"rename\", and rename it using the same name for your github repository. \n",
    "\n",
    "### Set up your terminal to push into your Github\n",
    "* Open your Terminal: On a mac please find the black square  icon on your work bar with a these symbols "
   ]
  },
  {
   "cell_type": "markdown",
   "id": "200db9d6-b781-462b-9e3e-2d47ef62b0db",
   "metadata": {},
   "source": [
    "<_ "
   ]
  },
  {
   "cell_type": "markdown",
   "id": "fca8aa7a-0f66-4cdf-a40c-deaadf22f47e",
   "metadata": {},
   "source": [
    "* This is the \"TERMINAL\" icon. It can be located by moving your pointer to the bottom of the screen. Click on the icon. A window called your terminal will open. \n",
    "* Use the following commands to link your local desktop folder to your github repository. "
   ]
  },
  {
   "cell_type": "markdown",
   "id": "0b4fea00-0201-482e-8380-f12e2b241015",
   "metadata": {},
   "source": [
    "cd/Desktop/proof_of_authority "
   ]
  },
  {
   "cell_type": "markdown",
   "id": "d97a473d-4b0b-4133-909c-b3d96afc0315",
   "metadata": {},
   "source": [
    "this will take you into your folder. It is called a directory. "
   ]
  },
  {
   "cell_type": "markdown",
   "id": "1815eece-b094-4899-9e14-a962f0373f4c",
   "metadata": {},
   "source": [
    "### Initializing Git\n",
    "Because we created our file locally on our desktop, we need to push it to GitHub to store it there. The first step is initializing Git.\n",
    "\n",
    "Run this command in your terminal:"
   ]
  },
  {
   "cell_type": "code",
   "execution_count": null,
   "id": "5c299821-e175-43da-84d9-e6a28860098e",
   "metadata": {},
   "outputs": [],
   "source": [
    "git init"
   ]
  },
  {
   "cell_type": "markdown",
   "id": "57cc0e41-9352-44ea-9956-1e0fd1903c64",
   "metadata": {},
   "source": [
    "The \"git init\" command turns your directory into a new Git Repository.\n",
    "The returned output, also understood as a response, from your terminal should read:"
   ]
  },
  {
   "cell_type": "markdown",
   "id": "9288bf61-d5e8-4d9c-bf34-5284db69d102",
   "metadata": {},
   "source": [
    "Initialized empty Git repository in and/some/info/about/your/computer"
   ]
  },
  {
   "cell_type": "markdown",
   "id": "90e61073-a702-48f4-a610-3e581e4f824d",
   "metadata": {},
   "source": [
    "Now that you have initialized your repository you are able to add your work into your repository on GITHUB!\n",
    "Lets stop working in the terminal here and begin working on the HW on our local desktop."
   ]
  },
  {
   "cell_type": "markdown",
   "id": "cca030e6-deda-4609-807a-4549aa7e956b",
   "metadata": {},
   "source": [
    " ## Required Installations "
   ]
  },
  {
   "cell_type": "markdown",
   "id": "a319a408-4b7a-4f72-b6f2-a36ffefa66b4",
   "metadata": {},
   "source": [
    "### Installation 1: Go Etherum \n",
    "- These are tools to be use in completing your HW.\n",
    "**NOTE:** Do **not** install the most recent version of Go Ethereum Tools. The correct version to install is **\"Geth & Tools 1.9.7\"**.\n",
    "\n",
    "1. Open your browser and navigate to the Go Ethereum Tools download page at https://geth.ethereum.org/downloads/\n",
    "\n",
    "2. Scroll down to the \"Stable Releases\" section Click on the **\"Geth & Tools 1.9.7\"** to download the applications bundle archive.\n",
    "* To Open your \"Downloads\" folder by finding the FINDER\" Icon. If you dont know what that is:\n",
    " a. ask Siri on your mac laptop and the machine will open it for you. \n",
    " b.You can also look in your tool bar located at the bottom of the mac screen and click on the blue happy face icon. This is your finder icon. \n",
    " \n",
    " 3.Select the DOWNLOADS. Here, you will find a file named `geth-alltools-darwin-amd64-1.9.7-a718daa6.tar.gz` in OS X.\n",
    " \n",
    " 4. Click on it. It will create a folder.\n",
    " \n",
    " 5.Place it on your desktop and rename it BLOCKCHAIN_TOOL"
   ]
  },
  {
   "cell_type": "markdown",
   "id": "9a0bbb38-2de1-4427-aeb3-92c3d0647ff3",
   "metadata": {},
   "source": [
    "# Installation II: MyCrypto Desktop App\n",
    "\n",
    "[MyCrypto](https://www.mycrypto.com/) is a free, open-source, client-side interface that allows you to interact directly with the blockchain. We will use MyCrypto Desktop App to manage ethereum wallets and make transactions in the blockchain.\n",
    "\n",
    "To install MyCrypto Desktop App, please follow the next steps:\n",
    "\n",
    "1. Open your browser and navigate to the downloads page at https://download.mycrypto.com/.\n",
    "\n",
    "2. Depending on your operating system, you will be redirected to the corresponding application installer. If you are not correctly redirected, choose the appropriate installer for your operating system.\n",
    "\n",
    "3. Once you download the installer, open the file, and follow the installation wizard.\n",
    "1. Navigate to MYCrypto in your webBrowser.\n",
    "\n",
    "* The first time you execute MyCrypto, you will see the following starting tutorial, we suggest to read trough as you click \"Next\" to continue.\n",
    "\n",
    "Running in OS X:\n",
    "\n",
    "* The first time you execute MyCrypto, you will see a warning message, you can safely click on the gear icon in your toolbar located at the bottom of your mac laptop. It is your SYSTEM PREFERENCES. Click on the gear icon which navigates to your SECURITY AND PRIVACY settings. Here you may safely select \"ALLOW\" button to start the application.\n",
    "\n",
    "### WHY DO I GET A WARNING?: Allowing Permission to Open Apps from Unidentified Developers\n",
    "When an app is not registered with Apple, it can be automatically blocked by the Mac OS operating system when attempting to open the \"unidentified\" application. Therefore, in order to allow the use of the MyCrypto app, you may need to allow it as an exception to your Mac OS security preferences. To do so perform the following.\n",
    "\n",
    "1. Open the MyCrypto app, it should produce a warning error saying that you cannot open the application due to security reasons. Therefore, we'll need to make a security exception for it.\n",
    "\n",
    "2. Look to the top-left of the screen and click on the Apple Logo and navigate to System Preferences > Security & Privacy.\n",
    "\n",
    "3. Click in the General tab and allow your MyCrypto application security access to be opened in the \"Allow Apps Downloaded From\" section. Your screen should look similar to the image below."
   ]
  },
  {
   "cell_type": "markdown",
   "id": "5f21bd28-087f-445c-ad8f-a94a5050d3e0",
   "metadata": {},
   "source": [
    "# ACTIVATING MyCrypto Wallet"
   ]
  },
  {
   "cell_type": "markdown",
   "id": "58114c14-14e3-49d7-bb34-d23135f3fb8f",
   "metadata": {},
   "source": [
    "# Using a Wallet\n",
    "\n",
    "In this activity you will create a crypto wallet with [MyCrypto Desktop App](https://download.mycrypto.com/). Using MyCrypto Desktop App, you will be requesting testnet tokens"
   ]
  },
  {
   "cell_type": "markdown",
   "id": "36b4854a-bcac-4152-8bfa-89b915d7fbaa",
   "metadata": {},
   "source": [
    "### Instructions \n",
    "1. Open up the MyCrypto app.\n",
    "2. Click \"Create a new wallet\" on the left.\n",
    "3. 3. Choose \"Generate a wallet\".\n",
    "4. Use the \"Mnemonic Phrase\" option. MyCrypto will generate a unique mnemonic phrase for you, write down this phrase **in order** and store it in a safe place. Do not share this phrase with anyone, treat it like your banking password. Screenshot and save or place it in your note book app for this HW assignment. You will need it later in this excersise.\n",
    "5. You will need to confirm the phrase by clicking your words in order they first appeared. See your notes or the screenshot you took of your mnemonic phrase.\n",
    "6. Unlock your wallet by going to \"View & Send\" and pick \"Mnemonic Phrase.\"\n",
    "7. Type your mnemonic phrase, with spaces (you can click the eye to view it), then continue to choose an address.\n",
    "8. Once you pick an address to unlock, copy the address on the right hand side.\n",
    "9.  At the bottom left of the app, click \"Change network\" and select \"Kovan\".\n",
    "10.  Navigate to this testnet token faucet to request some free test tokens.\n",
    "11.  Paste your wallet address and request the tokens. You can view the transaction status on Etherscan using the link provided.\n",
    "12.  Once the tokens have arrived at your wallet, check the addresses. You will need at least two from this wallet when setting up your GENESIS BLOCK later in this excersise.\n",
    "13. You are finished with this app for the moment. \n"
   ]
  },
  {
   "cell_type": "code",
   "execution_count": null,
   "id": "3d580cec-1ac5-4e80-8860-d304413f1a9a",
   "metadata": {},
   "outputs": [],
   "source": []
  },
  {
   "cell_type": "markdown",
   "id": "c2d48d6b-d3ca-4b48-943d-9465b69a1ed8",
   "metadata": {},
   "source": [
    "# DELIVERABLE 1\n",
    "## Setting up a CUSTOME TESTNET BLOCKCHAIN \n",
    "Setting up a testnet blockchain means that we must set up a GENESIS BLOCK. GENESIS BLOCKS are set up using the comman line. The command line code is"
   ]
  },
  {
   "cell_type": "code",
   "execution_count": null,
   "id": "d6e15b33-509a-4f89-a2db-954b4bcbe755",
   "metadata": {},
   "outputs": [],
   "source": [
    "./puppeth"
   ]
  },
  {
   "cell_type": "markdown",
   "id": "d89dc2d6-9cbe-4086-a401-e87a676d2c93",
   "metadata": {},
   "source": [
    "### INSTRUCTIONS FOR SETTING UP A GENESIS BLOCK\n",
    "1. Open your TERMINAL.\n",
    "* cd into your BLOCKCHAIN_TOOL directory. If you do not recall what this means, in plain language it means: open your terminal and use the following command code in the command line to navigate into your BLOCKCHAIN_TOOLS folder (directory). "
   ]
  },
  {
   "cell_type": "code",
   "execution_count": null,
   "id": "634563c7-90cf-4580-bebc-6efacd8e2b9e",
   "metadata": {},
   "outputs": [],
   "source": [
    "cd/Desktop/Blockchain_tools"
   ]
  },
  {
   "cell_type": "markdown",
   "id": "9a3f5bab-e5b4-46d9-9191-3eddef706300",
   "metadata": {},
   "source": [
    "2. To initiate the puppeth command code in the command line enter"
   ]
  },
  {
   "cell_type": "code",
   "execution_count": null,
   "id": "9f2cf948-f65a-46a9-9a6f-90fe84cf0c1b",
   "metadata": {},
   "outputs": [],
   "source": [
    "./puppeth"
   ]
  },
  {
   "cell_type": "markdown",
   "id": "919cfc1d-e014-4854-a44b-cce9e17f7d5d",
   "metadata": {},
   "source": [
    "* You will be prompted to name the network (GENESIS BLOCK) you are creating. WRITE THE NAME DOWN.\n",
    "in this HW example, I named it lastchance."
   ]
  },
  {
   "cell_type": "markdown",
   "id": "24b29ec3-7c51-46a1-8d21-f81a5d53f8e8",
   "metadata": {},
   "source": [
    "You will be prompted to select the following :What would you like to do? (default = stats)\n",
    " 1. Show network stats\n",
    " 2. Configure new genesis\n",
    " 3. Track new remote server\n",
    " 4. Deploy network components"
   ]
  },
  {
   "cell_type": "markdown",
   "id": "5c2c9db9-4f0c-4e34-84ad-d4a055c69dc1",
   "metadata": {},
   "source": [
    "* SELECT option 2. Configuere new genesis"
   ]
  },
  {
   "cell_type": "markdown",
   "id": "c449ee83-7f6c-4eaa-873b-3b25b3185ad8",
   "metadata": {},
   "source": [
    "* You will be prompted to select:\n",
    "    What would you like to do? (default = create)\n",
    " 1. Create new genesis from scratch\n",
    " 2. Import already existing genesis"
   ]
  },
  {
   "cell_type": "markdown",
   "id": "fea2d8c2-db34-465d-aa5b-d760305dbba1",
   "metadata": {},
   "source": [
    "* SELECT option 1. Create new genesis from scratch"
   ]
  },
  {
   "cell_type": "markdown",
   "id": "a291a90d-96e9-4ec4-9874-8cb1e8296f2b",
   "metadata": {},
   "source": [
    "* You will be prompted to select: Which consensus engine to use? (default = clique)\n",
    " 1. Ethash - proof-of-work\n",
    " 2. Clique - proof-of-authority\n",
    "* Select Option 2 - Clique - proof of authority"
   ]
  },
  {
   "cell_type": "markdown",
   "id": "381e1f0c-ed35-4220-b1ca-c9b4b5172f3e",
   "metadata": {},
   "source": [
    "* You will be prompted to select:How many seconds should blocks take? (default = 15)\n"
   ]
  },
  {
   "cell_type": "markdown",
   "id": "9c55ea7f-d15d-4d98-9123-01f04511f5f1",
   "metadata": {},
   "source": [
    "* Select 15, the default or simply press enter to move on."
   ]
  },
  {
   "cell_type": "markdown",
   "id": "a2e97aa3-f428-49dc-aeea-e24fd0ef38a6",
   "metadata": {},
   "source": [
    "* You will be prompted to provide: \n",
    "    Which accounts are allowed to seal? (mandatory at least one)\n",
    "> 0x\n",
    "\n",
    "* Copy and paste an address from your Ethereum wallet in MyCrypto, without the `0x` prefix since it is provided in the command line.\n",
    "* Once you paste an address and hit enter.\n",
    "* Copy and paste a different address from your Ethereum wallet in MyCrypto, without the `0x` prefix since it is provided in the command line.\n",
    "* Once you paste an address and hit enter."
   ]
  },
  {
   "cell_type": "markdown",
   "id": "37297599-3e88-4796-83a3-026559f8608c",
   "metadata": {},
   "source": [
    "* Continue with the default option for the prompt that asks `Should the precompile-addresses (0x1 .. 0xff) be pre-funded with 1 wei?` by hitting enter."
   ]
  },
  {
   "cell_type": "markdown",
   "id": "17eff474-4e95-40a2-b214-58cc743075e3",
   "metadata": {},
   "source": [
    "# II. CREATING NODES\n",
    "Now we have to create 2 NODES in order to use them for mining rewards.\n",
    "\n",
    "## Instructions\n",
    "1. Open your TERMINAL.\n",
    "* cd into your BLOCKCHAIN_TOOL directory. If you do not recall what this means, in plain language it means: open your terminal and use the following command code in the command line to navigate into your BLOCKCHAIN_TOOLS folder (directory). "
   ]
  },
  {
   "cell_type": "code",
   "execution_count": null,
   "id": "456351dc-281a-49e4-be06-955044e6fc50",
   "metadata": {},
   "outputs": [],
   "source": [
    "cd/Desktop/Blockchain_tools"
   ]
  },
  {
   "cell_type": "markdown",
   "id": "90caec14-2aae-401f-986f-1cd715987345",
   "metadata": {},
   "source": [
    "2. To initiate the puppeth command code in the command line enter"
   ]
  },
  {
   "cell_type": "code",
   "execution_count": null,
   "id": "bfecea30-7a81-4e80-9f82-fb5a470e2288",
   "metadata": {},
   "outputs": [],
   "source": [
    "./puppeth"
   ]
  },
  {
   "cell_type": "markdown",
   "id": "8dc79f4e-851a-4e49-b3ac-26f2c66ad56b",
   "metadata": {},
   "source": [
    "* You will be prompted to enter your network name. Recall we named it : lastchance\n",
    "* The prompt will read:\n",
    "Please specify a network name to administer (no spaces, hyphens or capital letters please)"
   ]
  },
  {
   "cell_type": "code",
   "execution_count": null,
   "id": "640ef6af-2ed4-4054-a03a-1fb551196514",
   "metadata": {},
   "outputs": [],
   "source": [
    "lastchance"
   ]
  },
  {
   "cell_type": "markdown",
   "id": "debe1944-1b50-4bd8-9901-9d83819d60cf",
   "metadata": {},
   "source": [
    "* You will be prompted to select:\n",
    "What would you like to do? (default = stats)\n",
    " 1. Show network stats\n",
    " 2. Manage existing genesis\n",
    " 3. Track new remote server\n",
    " 4. Deploy network components\n",
    "> \n",
    "\n",
    "* select option 2. Press enter to move on.\n",
    "* You will be prompted to select: \n",
    "*  1. Modify existing configurations\n",
    " 2. Export genesis configurations\n",
    " 3. Remove genesis configuration\n",
    "> select option 2\n",
    "\n",
    "* You have just exported your json file. It will appear in the Blockchains_Tools folder (directory)\n",
    "\n",
    "* Exit `puppeth` by using the `Ctrl+C`. Do not close your terminal. We will continue to work in this terminal and this command line."
   ]
  },
  {
   "cell_type": "markdown",
   "id": "02806806-525f-47df-8b8d-942d17feec42",
   "metadata": {},
   "source": [
    "### Clean up WORK SPACE\n",
    "* lastchance.json files. You only need the lastchance.json without `aleth`, `parity`, or `harmony` suffixes. Delete all others by entering your Blockchain_Tools Folder on your desktop and deleting the `aleth`, `parity`, or `harmony` files. \n"
   ]
  },
  {
   "cell_type": "markdown",
   "id": "81b43d3e-c21e-4775-b7e8-8b15dc255326",
   "metadata": {},
   "source": [
    "NOW WE CAN CREATE THE NODES! "
   ]
  },
  {
   "cell_type": "markdown",
   "id": "ea85598a-fc04-48e5-8173-fd4deea0672f",
   "metadata": {},
   "source": [
    "### III. INITIALIZING NODE 1 with json\n",
    "\n",
    "* TERMINAL: Using the same terminal as before run this comman line code:"
   ]
  },
  {
   "cell_type": "code",
   "execution_count": null,
   "id": "5288007c-23a7-4a28-95c7-1c6f2331e6e9",
   "metadata": {},
   "outputs": [],
   "source": [
    "./geth --datadir node1 account new"
   ]
  },
  {
   "cell_type": "markdown",
   "id": "eac2d0cd-d73d-451b-bce6-66884970c373",
   "metadata": {},
   "source": [
    "* You will be prompted :\n",
    "Your new account is locked with a password. Enter a password. Press Enter. \n",
    "You will be prompted to re enter your password. Enter it again and press enter to move forward. \n",
    "\n",
    "<b> NOTEPAD</b> :Please select a password. Do not forget this password.\n",
    "* Your Password: \n",
    "    * Your password is case sensitive. Please write it down.\n",
    "    * Open a <b>NOTEPAD</b> on your desktop and keep a running note of the following excersis and its outputs. Anytime you see the word <b> NOTEPAD</b> you should save the information in your notepad."
   ]
  },
  {
   "cell_type": "markdown",
   "id": "154f8306-4d9b-40b7-bbb2-f81a52f0c202",
   "metadata": {},
   "source": [
    "### OUTPUT: A msg will appear. You can read it below:\n",
    "        \n",
    "our new key was generated\n",
    "* Public address of the key:   0x...'sequence of numbers here'..........\n",
    "* Path of the secret key file: node1/keystore/UTC--'...sequence of numbers here...'\n",
    "### <b> NOTEPAD</b> put this key and address information in your notepad. Label it NODE 1\n",
    "\n",
    "\n",
    "- You can share your public address with anyone. Others need it to interact with you.\n",
    "- You must NEVER share the secret key with anyone! The key controls access to your funds!\n",
    "- You must BACKUP your key file! Without the key, it's impossible to access account funds!\n",
    "- You must REMEMBER your password! Without the password, it's impossible to decrypt the key!\n"
   ]
  },
  {
   "cell_type": "markdown",
   "id": "b26079b7-0eec-4030-aaf7-3a90bf88f000",
   "metadata": {},
   "source": [
    "### IV. Initializing NODE 2 with json\n",
    "* You will be prompted :\n",
    "Your new account is locked with a password. Enter a password. Press Enter. \n",
    "You will be prompted to re enter your password. Enter it again and press enter to move forward. \n",
    "\n",
    "<b> NOTEPAD</b> :Please select a password. Do not forget this password.\n",
    "* Your Password: \n",
    "    * Your password is case sensitive. Please write it down.\n",
    "    * Open a <b>NOTEPAD</b> on your desktop and keep a running note of the following excersis and its outputs. Anytime you see the word <b> NOTEPAD</b> you should save the information in your notepad."
   ]
  },
  {
   "cell_type": "code",
   "execution_count": null,
   "id": "ebd169ff-a1e7-4423-9a11-5fb47bcc48af",
   "metadata": {},
   "outputs": [],
   "source": [
    "* ./geth --datadir node2 init lastchance.json"
   ]
  },
  {
   "cell_type": "markdown",
   "id": "65c89c10-b27f-427f-ae47-6a8af3a6783f",
   "metadata": {},
   "source": [
    "### OUTPUT: A msg will appear. You can read it below:\n",
    "        \n",
    "our new key was generated\n",
    "* Public address of the key:   0x...'sequence of numbers here'..........\n",
    "* Path of the secret key file: node1/keystore/UTC--'...sequence of numbers here...'\n",
    "### <b> NOTEPAD</b> put this key and address information in your notepad. Label it NODE 1\n",
    "\n",
    "\n",
    "- You can share your public address with anyone. Others need it to interact with you.\n",
    "- You must NEVER share the secret key with anyone! The key controls access to your funds!\n",
    "- You must BACKUP your key file! Without the key, it's impossible to access account funds!\n",
    "- You must REMEMBER your password! Without the password, it's impossible to decrypt the key!\n"
   ]
  },
  {
   "cell_type": "markdown",
   "id": "31b91f91-f9c6-4d5c-8b89-a1bc0aa80477",
   "metadata": {},
   "source": [
    "numerous omissions in instructions here and 3 tutors later we figured out what was missing. Write your own lesson plans."
   ]
  },
  {
   "cell_type": "markdown",
   "id": "5d7a9382-8fc1-4272-8dd6-8bd22996085a",
   "metadata": {},
   "source": [
    "4. Now the nodes can be used to begin mining blocks.\n",
    "\n",
    "    * Run the nodes in separate terminal windows with the commands:\n",
    "        *  ./geth --datadir node1 --unlock \"SEALER_ONE_ADDRESS\" --mine --rpc --allow-insecure-unlock\n",
    "        *  ./geth --datadir node2 --unlock \"SEALER_TWO_ADDRESS\" --mine --port 30304 --bootnodes \"enode://SEALER_ONE_ENODE_ADDRESS@127.0.0.1:30303\" --ipcdisable --allow-insecure-unlock\n",
    "    * **NOTE:** Type your password and hit enter - even if you can't see it visually!\n",
    "    \n",
    "    \n",
    "* With both nodes up and running, the blockchain can be added to MyCrypto for testing.\n",
    "\n",
    "    * Open the MyCrypto app, then click `Change Network` at the bottom left:\n",
    "\n",
    "    * Click \"Add Custom Node\", then add the custom network information that you set in the genesis.\n",
    "\n",
    "    * Make sure that you scroll down to choose `Custom` in the \"Network\" column to reveal more options like `Chain ID`:\n",
    "\n",
    "    * Type `ETH` in the Currency box.\n",
    "    \n",
    "    * In the Chain ID box, type the chain id you generated during genesis creation.\n",
    "\n",
    "    * In the URL box type: `http://127.0.0.1:8545`.  This points to the default RPC port on your local machine.\n",
    "\n",
    "    * Finally, click `Save & Use Custom Node`. \n",
    "\n",
    "* After connecting to the custom network in MyCrypto, it can be tested by sending money between accounts.\n",
    "\n",
    "    * Select the `View & Send` option from the left menu pane, then click `Keystore file`.\n",
    "\n",
    "    * On the next screen, click `Select Wallet File`, then navigate to the keystore directory inside your Node1 directory, select the file located there, provide your password when prompted and then click `Unlock`.\n",
    "\n",
    "    * This will open your account wallet inside MyCrypto. \n",
    "    \n",
    "    * Looks like we're filthy rich! This is the balance that was pre-funded for this account in the genesis configuration; however, these millions of ETH tokens are just for testing purposes.   \n",
    "\n",
    "    * In the `To Address` box, type the account address from Node2, then fill in an arbitrary amount of ETH:\n",
    "\n",
    "    * Confirm the transaction by clicking \"Send Transaction\", and the \"Send\" button in the pop-up window.  \n",
    "\n",
    "    * Click the `Check TX Status` when the green message pops up, confirm the logout:\n",
    "\n",
    "    * You should see the transaction go from `Pending` to `Successful` in around the same blocktime you set in the genesis.\n",
    "\n",
    "    * You can click the `Check TX Status` button to update the status.\n"
   ]
  },
  {
   "cell_type": "code",
   "execution_count": null,
   "id": "b8b4d23a-5650-4790-8bf5-a6c2f742ea21",
   "metadata": {},
   "outputs": [],
   "source": []
  }
 ],
 "metadata": {
  "kernelspec": {
   "display_name": "Python 3",
   "language": "python",
   "name": "python3"
  },
  "language_info": {
   "codemirror_mode": {
    "name": "ipython",
    "version": 3
   },
   "file_extension": ".py",
   "mimetype": "text/x-python",
   "name": "python",
   "nbconvert_exporter": "python",
   "pygments_lexer": "ipython3",
   "version": "3.8.6"
  }
 },
 "nbformat": 4,
 "nbformat_minor": 5
}
